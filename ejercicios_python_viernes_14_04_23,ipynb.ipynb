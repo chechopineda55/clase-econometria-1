{
  "nbformat": 4,
  "nbformat_minor": 0,
  "metadata": {
    "colab": {
      "provenance": [],
      "authorship_tag": "ABX9TyMcTimiP+EwkeHWpDa2eLBs",
      "include_colab_link": true
    },
    "kernelspec": {
      "name": "python3",
      "display_name": "Python 3"
    },
    "language_info": {
      "name": "python"
    }
  },
  "cells": [
    {
      "cell_type": "markdown",
      "metadata": {
        "id": "view-in-github",
        "colab_type": "text"
      },
      "source": [
        "<a href=\"https://colab.research.google.com/github/chechopineda55/clase-econometria-1/blob/main/ejercicios_python_viernes_14_04_23%2Cipynb.ipynb\" target=\"_parent\"><img src=\"https://colab.research.google.com/assets/colab-badge.svg\" alt=\"Open In Colab\"/></a>"
      ]
    },
    {
      "cell_type": "markdown",
      "source": [
        "a) Programa para sumar una lista de números:"
      ],
      "metadata": {
        "id": "c5OMcfEZtnFa"
      }
    },
    {
      "cell_type": "code",
      "source": [
        "def sumar_lista1(lista1):\n",
        "    suma = 0\n",
        "    for num in lista1:\n",
        "        suma += num\n",
        "    return suma"
      ],
      "metadata": {
        "id": "gcIXZ8EFmpxw"
      },
      "execution_count": 7,
      "outputs": []
    },
    {
      "cell_type": "code",
      "source": [
        "numeros = [1, 2, 3, 4, 5,6,7,8,9,99,11,11,66,77,88,-88]\n",
        "print(sumar_lista1(numeros))  "
      ],
      "metadata": {
        "colab": {
          "base_uri": "https://localhost:8080/"
        },
        "id": "-nUwXuJimzgl",
        "outputId": "27bbce1a-6ee8-419f-ad1e-684b439d80a5"
      },
      "execution_count": 13,
      "outputs": [
        {
          "output_type": "stream",
          "name": "stdout",
          "text": [
            "309\n"
          ]
        }
      ]
    },
    {
      "cell_type": "markdown",
      "source": [
        "b) Programa para encontrar elementos comunes en dos listas:"
      ],
      "metadata": {
        "id": "bbiBHcACtrxn"
      }
    },
    {
      "cell_type": "code",
      "source": [
        "def lista_elemntos_comunes(lista1, lista2):\n",
        "  lista_comunes=[]\n",
        "  for elem in lista1:\n",
        "    if elem in lista2:\n",
        "      lista_comunes.append(elem)\n",
        "  return lista_comunes\n",
        "   "
      ],
      "metadata": {
        "id": "nR-hKozinF-1"
      },
      "execution_count": 143,
      "outputs": []
    },
    {
      "cell_type": "code",
      "source": [
        "lista1=[1, 2, 3, 4, 5,6,7,8,9,99,11,11,66,77,88,-88]"
      ],
      "metadata": {
        "id": "S-Gr9MRFohLU"
      },
      "execution_count": 146,
      "outputs": []
    },
    {
      "cell_type": "code",
      "source": [
        "lista2=[1,2,3,4,5,6,7,8,9,77,87,78,58,6,54,45,52,35,1,27]"
      ],
      "metadata": {
        "id": "2vORF8IbnaeS"
      },
      "execution_count": 147,
      "outputs": []
    },
    {
      "cell_type": "code",
      "source": [
        "print(lista_elemntos_comunes(lista1,lista2)) "
      ],
      "metadata": {
        "colab": {
          "base_uri": "https://localhost:8080/"
        },
        "id": "BhutR6IJnz2P",
        "outputId": "5094299b-6db2-4901-fa3d-b2246da5782d"
      },
      "execution_count": 148,
      "outputs": [
        {
          "output_type": "stream",
          "name": "stdout",
          "text": [
            "[1, 2, 3, 4, 5, 6, 7, 8, 9, 77]\n"
          ]
        }
      ]
    },
    {
      "cell_type": "markdown",
      "source": [
        "c) Programa para encontrar la longitud de la cadena más larga en una lista:"
      ],
      "metadata": {
        "id": "p7Qy6JmAtzfD"
      }
    },
    {
      "cell_type": "code",
      "source": [
        "def longitud_cadena_mas_larga(lista_cadenas):\n",
        "    longitud_maxima = 0\n",
        "    for cadena in lista_cadenas:\n",
        "        longitud_cadena = len(cadena)\n",
        "        if longitud_cadena > longitud_maxima:\n",
        "            longitud_maxima = longitud_cadena\n",
        "    return longitud_maxima"
      ],
      "metadata": {
        "id": "rB-g5oEEpFJt"
      },
      "execution_count": null,
      "outputs": []
    },
    {
      "cell_type": "code",
      "source": [
        "cadenas = [\"lobo\",\"leon\",\"perro\",\"mono\",\"gato\",\"elefante\",\"ballena\",\"tiburonballena\",\"bicicleta\"]"
      ],
      "metadata": {
        "id": "J676hd20sb7J"
      },
      "execution_count": null,
      "outputs": []
    },
    {
      "cell_type": "code",
      "source": [
        "print(longitud_cadena_mas_larga(cadenas))"
      ],
      "metadata": {
        "colab": {
          "base_uri": "https://localhost:8080/"
        },
        "id": "kM72aLVKs7e-",
        "outputId": "a66a46d5-d7e0-45af-9eca-55c25c618259"
      },
      "execution_count": null,
      "outputs": [
        {
          "output_type": "stream",
          "name": "stdout",
          "text": [
            "14\n"
          ]
        }
      ]
    },
    {
      "cell_type": "markdown",
      "source": [
        "d) Programa para obtener los números pares de una lista:"
      ],
      "metadata": {
        "id": "KIfykhglt4bw"
      }
    },
    {
      "cell_type": "code",
      "source": [
        "def obtener_numeros_pares(lista):\n",
        "    numeros_pares = []\n",
        "    for num in lista:\n",
        "        if num % 2 == 0:\n",
        "            numeros_pares.append(num)\n",
        "    return numeros_pares"
      ],
      "metadata": {
        "id": "tjk4xI2VtCKQ"
      },
      "execution_count": null,
      "outputs": []
    },
    {
      "cell_type": "code",
      "source": [
        "numeros = [1, 2, 3, 4, 5, 6, 7, 8,9,99,45,65,47,52,35,44,46]"
      ],
      "metadata": {
        "id": "iMpy-TwotPRr"
      },
      "execution_count": null,
      "outputs": []
    },
    {
      "cell_type": "code",
      "source": [
        "print(obtener_numeros_pares(numeros))"
      ],
      "metadata": {
        "colab": {
          "base_uri": "https://localhost:8080/"
        },
        "id": "wEx34_S4tZtw",
        "outputId": "0324a0a4-565c-4833-e42a-f8b9784e277e"
      },
      "execution_count": null,
      "outputs": [
        {
          "output_type": "stream",
          "name": "stdout",
          "text": [
            "[2, 4, 6, 8, 52, 44, 46]\n"
          ]
        }
      ]
    },
    {
      "cell_type": "markdown",
      "source": [
        "e) Programa para obtener las cadenas que comienzan con \"a\" en una lista:"
      ],
      "metadata": {
        "id": "fL6KqiMMt-vX"
      }
    },
    {
      "cell_type": "code",
      "source": [
        "def obtener_cadenas_con_a(lista):\n",
        "    cadenas_con_a = []\n",
        "    for cadena in lista:\n",
        "        if cadena[0] == \"a\":\n",
        "            cadenas_con_a.append(cadena)\n",
        "    return cadenas_con_a"
      ],
      "metadata": {
        "id": "KS_VppZitiau"
      },
      "execution_count": null,
      "outputs": []
    },
    {
      "cell_type": "code",
      "source": [
        "cadenas = [\"perro\", \"gato\", \"avión\", \"árbol\", \"bicicleta\",\"arroyo\",\"arpa\",\"corral\",\"arco\"]\n",
        "print(obtener_cadenas_con_a(cadenas))"
      ],
      "metadata": {
        "colab": {
          "base_uri": "https://localhost:8080/"
        },
        "id": "nLrLIz-xuFj0",
        "outputId": "2d11e822-ecca-4dbd-f528-4b4be92b744d"
      },
      "execution_count": null,
      "outputs": [
        {
          "output_type": "stream",
          "name": "stdout",
          "text": [
            "['avión', 'arroyo', 'arpa', 'arco']\n"
          ]
        }
      ]
    },
    {
      "cell_type": "markdown",
      "source": [
        "f) Programa para agregar una entrada a un diccionario:"
      ],
      "metadata": {
        "id": "zR602znHuYZg"
      }
    },
    {
      "cell_type": "code",
      "source": [
        "def agregar_entrada_dict(diccionario, clave, valor):\n",
        "    diccionario[clave] = valor\n",
        "    return diccionario"
      ],
      "metadata": {
        "id": "px0ht6wSuTgy"
      },
      "execution_count": null,
      "outputs": []
    },
    {
      "cell_type": "code",
      "source": [
        "mi_dict = {\"A\": 1, \"B\": 2}\n",
        "mi_dict_actualizado = agregar_entrada_dict(mi_dict, \"C\", 3)\n",
        "print(mi_dict_actualizado)"
      ],
      "metadata": {
        "colab": {
          "base_uri": "https://localhost:8080/"
        },
        "id": "EAOzVQnGurdM",
        "outputId": "f77894ee-b487-4e08-a50c-2047a2206b2a"
      },
      "execution_count": null,
      "outputs": [
        {
          "output_type": "stream",
          "name": "stdout",
          "text": [
            "{'A': 1, 'B': 2, 'C': 3}\n"
          ]
        }
      ]
    },
    {
      "cell_type": "markdown",
      "source": [
        "g) Programa para encontrar el valor máximo en un diccionario:"
      ],
      "metadata": {
        "id": "wDQEMI5JwlXD"
      }
    },
    {
      "cell_type": "code",
      "source": [
        "def encontrar_valor_maximo_dict(diccionario):\n",
        "    valor_maximo = max(diccionario.values())\n",
        "    return valor_maximo"
      ],
      "metadata": {
        "id": "TlK8PYODwsWK"
      },
      "execution_count": null,
      "outputs": []
    },
    {
      "cell_type": "code",
      "source": [
        "mi_dict = {\"A\": 1, \"B\": 5, \"C\": 3, \"D\": 2}\n",
        "print(encontrar_valor_maximo_dict(mi_dict))"
      ],
      "metadata": {
        "colab": {
          "base_uri": "https://localhost:8080/"
        },
        "id": "yNJBaACcwzC8",
        "outputId": "27642174-5f20-49b1-ac6d-98be32a399a1"
      },
      "execution_count": null,
      "outputs": [
        {
          "output_type": "stream",
          "name": "stdout",
          "text": [
            "5\n"
          ]
        }
      ]
    },
    {
      "cell_type": "markdown",
      "source": [
        "h) Programa para remover elementos duplicados de una lista:"
      ],
      "metadata": {
        "id": "qFMIjT9rw10K"
      }
    },
    {
      "cell_type": "code",
      "source": [
        "def remover_elementos_duplicados(my_lista):\n",
        "    lista_sin_duplicados = lista(set(my_lista))\n",
        "    return lista_sin_duplicados"
      ],
      "metadata": {
        "id": "e4rCIkwMw1RX"
      },
      "execution_count": null,
      "outputs": []
    },
    {
      "cell_type": "code",
      "source": [
        "my_lista = [1, 2, 2, 3, 4, 4, 5,66,66,58,99,77,45,45,58,54,51,52,52]"
      ],
      "metadata": {
        "id": "xgb-zHyaxAHa"
      },
      "execution_count": null,
      "outputs": []
    },
    {
      "cell_type": "code",
      "source": [
        "while my_lista.count(66) > 1:\n",
        "      my_lista .remove(66)"
      ],
      "metadata": {
        "id": "VVWNloqMxKqE"
      },
      "execution_count": null,
      "outputs": []
    },
    {
      "cell_type": "code",
      "source": [
        " while my_lista.count(52)> 1:\n",
        "        my_lista.remove(52)"
      ],
      "metadata": {
        "id": "84t_2yk50eQG"
      },
      "execution_count": null,
      "outputs": []
    },
    {
      "cell_type": "code",
      "source": [
        "while my_lista.count(45) >1 : \n",
        "   my_lista.remove(45)"
      ],
      "metadata": {
        "id": "IXFqGQdwxMvc"
      },
      "execution_count": null,
      "outputs": []
    },
    {
      "cell_type": "code",
      "source": [
        "my_lista"
      ],
      "metadata": {
        "colab": {
          "base_uri": "https://localhost:8080/"
        },
        "id": "DLTESv0S02Sf",
        "outputId": "4f71e332-b7a7-4b49-8410-0120216a8b46"
      },
      "execution_count": null,
      "outputs": [
        {
          "output_type": "execute_result",
          "data": {
            "text/plain": [
              "[1, 2, 2, 3, 4, 4, 5, 66, 58, 99, 77, 45, 58, 54, 51, 52]"
            ]
          },
          "metadata": {},
          "execution_count": 135
        }
      ]
    },
    {
      "cell_type": "markdown",
      "source": [
        "i) Programa para contar la cantidad de elementos en una lista que son mayores a cierto número:"
      ],
      "metadata": {
        "id": "P47XxVSf1AHO"
      }
    },
    {
      "cell_type": "code",
      "source": [
        "def contar_numeros_mayores_a(lista, numero):\n",
        "    cantidad_mayores = 0\n",
        "    for num in lista:\n",
        "        if num > numero:\n",
        "            cantidad_mayores += 1\n",
        "    return cantidad_mayores"
      ],
      "metadata": {
        "id": "icF446xu05ur"
      },
      "execution_count": null,
      "outputs": []
    },
    {
      "cell_type": "code",
      "source": [
        "numeros = [1, 2, 3, 4, 5, 6, 7,8,9,7,88,10,12,31]\n",
        "print(contar_numeros_mayores_a(numeros, 3))  "
      ],
      "metadata": {
        "colab": {
          "base_uri": "https://localhost:8080/"
        },
        "id": "Wk_5uVSZ1IFd",
        "outputId": "56e39485-3ee4-4cc9-c869-0623f848efe1"
      },
      "execution_count": null,
      "outputs": [
        {
          "output_type": "stream",
          "name": "stdout",
          "text": [
            "11\n"
          ]
        }
      ]
    },
    {
      "cell_type": "markdown",
      "source": [
        "j) Programa para ordenar una lista en orden descendente:"
      ],
      "metadata": {
        "id": "ujB6psif1P0n"
      }
    },
    {
      "cell_type": "code",
      "source": [
        "def ordenar_lista_descendente(lista):\n",
        "    lista_ordenada = sorted(lista, reverse=True)\n",
        "    return lista_ordenada"
      ],
      "metadata": {
        "id": "Ghrla96s1Tjl"
      },
      "execution_count": null,
      "outputs": []
    },
    {
      "cell_type": "code",
      "source": [
        "mi_lista = [5, 2, 8, 1, 9, 3,5,6,7,8,9,6,5,4,85,58,65,52,53]\n",
        "print(ordenar_lista_descendente(mi_lista))"
      ],
      "metadata": {
        "colab": {
          "base_uri": "https://localhost:8080/"
        },
        "id": "t4ym2jM-1WZM",
        "outputId": "4d4cca05-f8f2-456d-dad0-11025b542da2"
      },
      "execution_count": null,
      "outputs": [
        {
          "output_type": "stream",
          "name": "stdout",
          "text": [
            "[85, 65, 58, 53, 52, 9, 9, 8, 8, 7, 6, 6, 5, 5, 5, 4, 3, 2, 1]\n"
          ]
        }
      ]
    },
    {
      "cell_type": "markdown",
      "source": [
        "k) Escribe una función que tome dos números como entrada y devuelva su suma."
      ],
      "metadata": {
        "id": "wlsFcoSV2_9Z"
      }
    },
    {
      "cell_type": "code",
      "source": [
        "def sumar(num1,num2):   \n",
        "    return num1+num2"
      ],
      "metadata": {
        "id": "P_449TD73AgX"
      },
      "execution_count": null,
      "outputs": []
    },
    {
      "cell_type": "code",
      "source": [
        "num1=[55]\n",
        "num2=[66]"
      ],
      "metadata": {
        "id": "hhi67SZb4Dyv"
      },
      "execution_count": null,
      "outputs": []
    },
    {
      "cell_type": "code",
      "source": [
        "print(sumar(55,66))"
      ],
      "metadata": {
        "colab": {
          "base_uri": "https://localhost:8080/"
        },
        "id": "nj_z2RpI3IMB",
        "outputId": "d5fdb41b-7ae3-4a8e-8af2-6af6712ed07f"
      },
      "execution_count": null,
      "outputs": [
        {
          "output_type": "stream",
          "name": "stdout",
          "text": [
            "121\n"
          ]
        }
      ]
    },
    {
      "cell_type": "markdown",
      "source": [
        "l) Crea una función que tome una lista de cadenas como entrada y devuelva una nueva lista que contenga solo las cadenas que son más largas que una longitud dada."
      ],
      "metadata": {
        "id": "qYZl4ebM3HWC"
      }
    },
    {
      "cell_type": "code",
      "source": [
        "def mas_largas(lista, longitud):\n",
        "   nuevas_cadenas=[]\n",
        "   for cadena in cadenas:\n",
        "     if len(cadena)>longitud:\n",
        "      nuevas_cadenas.append(cadena)\n",
        "   return nuevas_cadenas \n",
        "    "
      ],
      "metadata": {
        "id": "7bher2Q63Hce"
      },
      "execution_count": null,
      "outputs": []
    },
    {
      "cell_type": "code",
      "source": [
        "lista_cadenas=cadena1,cadena2"
      ],
      "metadata": {
        "id": "ggfovpzQ9mGb"
      },
      "execution_count": null,
      "outputs": []
    },
    {
      "cell_type": "code",
      "source": [
        "cadena1=[\"lunes\",\"martes\",\"miercoles\",\"jueves\",\"viernes\",\"sabado\",\"domingo\"]\n",
        "cadena2=[\"mercurio\",\"venus\",\"marte\",\"tierra\",\"saturno\",\"jupiter\",\"neptuno\",\"urano\"]"
      ],
      "metadata": {
        "id": "FG1VQymT5NaQ"
      },
      "execution_count": null,
      "outputs": []
    },
    {
      "cell_type": "code",
      "source": [
        "print(mas_largas(lista_cadenas,4))"
      ],
      "metadata": {
        "colab": {
          "base_uri": "https://localhost:8080/"
        },
        "id": "QurNHUi-5EzE",
        "outputId": "987b4819-ffd2-47fb-d991-97cfcad579c5"
      },
      "execution_count": null,
      "outputs": [
        {
          "output_type": "stream",
          "name": "stdout",
          "text": [
            "['perro', 'avión', 'árbol', 'bicicleta', 'arroyo', 'corral']\n"
          ]
        }
      ]
    },
    {
      "cell_type": "markdown",
      "source": [
        "m) Escribe una función que tome una cadena como entrada y devuelva True si la cadena es un palíndromo, False en caso contrario.\n"
      ],
      "metadata": {
        "id": "yY0sJEF37QjA"
      }
    },
    {
      "cell_type": "code",
      "source": [
        "def palindromo(cadena):\n",
        "    if cadena == cadena[::-1]:\n",
        "       return True\n",
        "    else:\n",
        "       return False \n"
      ],
      "metadata": {
        "id": "rjCC4Uc45KDd"
      },
      "execution_count": null,
      "outputs": []
    },
    {
      "cell_type": "code",
      "source": [
        "print(palindromo(cadena))"
      ],
      "metadata": {
        "colab": {
          "base_uri": "https://localhost:8080/"
        },
        "id": "5vx6w4sh7bou",
        "outputId": "08a497ed-74c8-4913-c8ad-a842cffcd771"
      },
      "execution_count": null,
      "outputs": [
        {
          "output_type": "stream",
          "name": "stdout",
          "text": [
            "False\n"
          ]
        }
      ]
    },
    {
      "cell_type": "markdown",
      "source": [
        "n) Crea una función que tome una lista de números como entrada y devuelva el promedio de todos los números en la lista"
      ],
      "metadata": {
        "id": "PHXm9bLF_K-0"
      }
    },
    {
      "cell_type": "code",
      "source": [
        "numeros2=[5,3,6,4,8,5,9,2,8,4]"
      ],
      "metadata": {
        "id": "vlOaQf7RW659"
      },
      "execution_count": 137,
      "outputs": []
    },
    {
      "cell_type": "code",
      "source": [
        "def promedio(lista):\n",
        "    suma=0\n",
        "    for num in lista:\n",
        "      suma+=num\n",
        "    prommedio=suma/len(lista)\n",
        "    return promedio"
      ],
      "metadata": {
        "id": "furPbeD3-0yH"
      },
      "execution_count": 139,
      "outputs": []
    },
    {
      "cell_type": "code",
      "source": [
        "promedio_numeros=promedio(numeros2)"
      ],
      "metadata": {
        "id": "xzP0JuyAVSbJ"
      },
      "execution_count": 140,
      "outputs": []
    },
    {
      "cell_type": "code",
      "source": [
        "print(\"el promedio de los numero es:\",promedio_numeros)"
      ],
      "metadata": {
        "colab": {
          "base_uri": "https://localhost:8080/"
        },
        "id": "kBFAvOQDYJSs",
        "outputId": "abfbe356-9a1f-4d96-d589-db1715d45dbb"
      },
      "execution_count": 142,
      "outputs": [
        {
          "output_type": "stream",
          "name": "stdout",
          "text": [
            "el promedio de los numero es: <function promedio at 0x7f7fcbe76310>\n"
          ]
        }
      ]
    },
    {
      "cell_type": "markdown",
      "source": [
        "o) Escribe una función que tome un diccionario como entrada y devuelva una lista de todas las claves en el diccionario."
      ],
      "metadata": {
        "id": "i18ISMQMVXih"
      }
    },
    {
      "cell_type": "code",
      "source": [
        "def obtener_claves(diccionario):\n",
        "      listas_clave=list(diccionario.keys())\n",
        "      return listas_clave"
      ],
      "metadata": {
        "id": "OusshhMYVWiH"
      },
      "execution_count": 121,
      "outputs": []
    },
    {
      "cell_type": "code",
      "source": [
        "diccionario=mi_diccionario"
      ],
      "metadata": {
        "id": "rhCJ87b5VmBm"
      },
      "execution_count": 120,
      "outputs": []
    },
    {
      "cell_type": "code",
      "source": [
        "mi_diccionario={\"nombre\":\"sergio\",\"edad\":21,\"hogar\":\"timiza\",\"ciudad\":\"bogota\",\"estrato\":3,\"familiares\":3,\"mascota\":2}"
      ],
      "metadata": {
        "id": "duTsDy_4aQQV"
      },
      "execution_count": 119,
      "outputs": []
    },
    {
      "cell_type": "code",
      "source": [
        "print(obtener_claves(diccionario))"
      ],
      "metadata": {
        "colab": {
          "base_uri": "https://localhost:8080/"
        },
        "id": "AyqcC_ZMXMXd",
        "outputId": "20ff3492-e07d-4b0d-b102-fa04c2aefd60"
      },
      "execution_count": 122,
      "outputs": [
        {
          "output_type": "stream",
          "name": "stdout",
          "text": [
            "['nombre', 'edad', 'hogar', 'ciudad', 'estrato', 'familiares', 'mascota']\n"
          ]
        }
      ]
    },
    {
      "cell_type": "markdown",
      "source": [
        "p) Escribe un programa que tome una lista de números como entrada y devuelva el valor máximo en la lista."
      ],
      "metadata": {
        "id": "dlhBKQamhwG1"
      }
    },
    {
      "cell_type": "code",
      "source": [
        "def valor_maximo(lista4):\n",
        "   return max(lista4)"
      ],
      "metadata": {
        "id": "bhQR1LbyXVvA"
      },
      "execution_count": 92,
      "outputs": []
    },
    {
      "cell_type": "code",
      "source": [
        "print(valor_maximo(lista4))"
      ],
      "metadata": {
        "colab": {
          "base_uri": "https://localhost:8080/"
        },
        "id": "LQAnJK7yiDT2",
        "outputId": "971905c2-7a55-4f59-ec65-8b731a623974"
      },
      "execution_count": 93,
      "outputs": [
        {
          "output_type": "stream",
          "name": "stdout",
          "text": [
            "65\n"
          ]
        }
      ]
    },
    {
      "cell_type": "markdown",
      "source": [
        "q) Crea un programa que tome una cadena como entrada y devuelva una nueva cadena que contenga solo las vocales en la cadena original."
      ],
      "metadata": {
        "id": "cLMQApxAiUts"
      }
    },
    {
      "cell_type": "code",
      "source": [
        "def obtener_vocales(cadena):\n",
        "  vocales=\"\"\n",
        "  for letra in cadena:\n",
        "    if letra in \"aeiouAEIOU\":\n",
        "      vocales+=letra\n",
        "  return vocales"
      ],
      "metadata": {
        "id": "8jr9NBIPiWEX"
      },
      "execution_count": 112,
      "outputs": []
    },
    {
      "cell_type": "code",
      "source": [
        "palabras=\"hola me gustaria informar que no puedo logar que funcionen la programacion en este cuaderno \""
      ],
      "metadata": {
        "id": "jx9SB1TqjAmH"
      },
      "execution_count": 113,
      "outputs": []
    },
    {
      "cell_type": "code",
      "source": [
        "print (obtener_vocales(palabras))"
      ],
      "metadata": {
        "colab": {
          "base_uri": "https://localhost:8080/"
        },
        "id": "PoUO2h4KjQ-h",
        "outputId": "dbca87a0-421a-4697-f644-9a0cd0ae87d5"
      },
      "execution_count": 114,
      "outputs": [
        {
          "output_type": "stream",
          "name": "stdout",
          "text": [
            "oaeuaiaioaueoueooaueuioeaoaaioeeeuaeo\n"
          ]
        }
      ]
    },
    {
      "cell_type": "markdown",
      "source": [
        "r) Escribe un programa que tome una lista de números como entrada y devuelva una nueva lista que contenga los valores al cuadrado de cada número en la lista original."
      ],
      "metadata": {
        "id": "Kke1WZURLiF6"
      }
    },
    {
      "cell_type": "code",
      "source": [
        "def cuadrado_lista(lista4):\n",
        "  lista_cuadrados=[x**2 for x in lista4]\n",
        "  return lista_cuadrados"
      ],
      "metadata": {
        "id": "NHuZsH_gjYGg"
      },
      "execution_count": 12,
      "outputs": []
    },
    {
      "cell_type": "code",
      "source": [
        "print(cuadrado_lista(lista4))"
      ],
      "metadata": {
        "colab": {
          "base_uri": "https://localhost:8080/"
        },
        "id": "jcC4kesIO_K-",
        "outputId": "cf240b98-88c6-4223-d3f6-805a44ad1a78"
      },
      "execution_count": 16,
      "outputs": [
        {
          "output_type": "stream",
          "name": "stdout",
          "text": [
            "[25, 9, 36, 16, 64, 25, 81, 4, 64, 16, 4225, 49, 25, 36]\n"
          ]
        }
      ]
    },
    {
      "cell_type": "markdown",
      "source": [
        "s) Crea un programa que tome una cadena como entrada y devuelva una nueva cadena con los caracteres en orden inverso."
      ],
      "metadata": {
        "id": "UfioGT0_PmL1"
      }
    },
    {
      "cell_type": "code",
      "source": [
        "def cadena_inversa(cadena):\n",
        "  return cadena[::-1]"
      ],
      "metadata": {
        "id": "nszfx6ejPGbZ"
      },
      "execution_count": 17,
      "outputs": []
    },
    {
      "cell_type": "code",
      "source": [
        "texto=\"hola me llamo sergio\""
      ],
      "metadata": {
        "id": "DRYk5e5-PwbV"
      },
      "execution_count": 18,
      "outputs": []
    },
    {
      "cell_type": "code",
      "source": [
        "print(cadena_inversa(texto))"
      ],
      "metadata": {
        "colab": {
          "base_uri": "https://localhost:8080/"
        },
        "id": "VWnbA-klP2TK",
        "outputId": "87a16f17-8131-485f-aa92-722510dc3e05"
      },
      "execution_count": 19,
      "outputs": [
        {
          "output_type": "stream",
          "name": "stdout",
          "text": [
            "oigres omall em aloh\n"
          ]
        }
      ]
    },
    {
      "cell_type": "markdown",
      "source": [
        "t) Escribe un programa que tome una lista de cadenas como entrada y devuelva una nueva lista que contenga la longitud de cada cadena en la lista original."
      ],
      "metadata": {
        "id": "K7sqR9LVQqb1"
      }
    },
    {
      "cell_type": "code",
      "source": [
        "def obtener_longitudes(lista_srings):\n",
        "  longitudes=[]\n",
        "  for cadena in lista_srings:\n",
        "    longitudes.append(len(cadena))\n",
        "  return longitudes"
      ],
      "metadata": {
        "id": "S2L1IC9cP50Y"
      },
      "execution_count": 20,
      "outputs": []
    },
    {
      "cell_type": "code",
      "source": [
        "lista_entrada=[\"mercurio\",\"venus\",\"marte\",\"tierra\",\"saturno\",\"jupiter\",\"neptuno\",\"urano\"]"
      ],
      "metadata": {
        "id": "ZLvBNI_cRjSP"
      },
      "execution_count": 36,
      "outputs": []
    },
    {
      "cell_type": "code",
      "source": [
        "lista_longitudes=obtener_longitudes(lista_entrada)"
      ],
      "metadata": {
        "id": "TdSEAq9PSNMb"
      },
      "execution_count": 38,
      "outputs": []
    },
    {
      "cell_type": "code",
      "source": [
        "print(lista_longitudes)"
      ],
      "metadata": {
        "colab": {
          "base_uri": "https://localhost:8080/"
        },
        "id": "K5Ochy8oSW3A",
        "outputId": "93b93e92-91d3-48b9-efd9-7f3354be3367"
      },
      "execution_count": 39,
      "outputs": [
        {
          "output_type": "stream",
          "name": "stdout",
          "text": [
            "[8, 5, 5, 6, 7, 7, 7, 5]\n"
          ]
        }
      ]
    }
  ]
}